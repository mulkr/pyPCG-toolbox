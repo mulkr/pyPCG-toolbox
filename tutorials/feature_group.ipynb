{
 "cells": [
  {
   "cell_type": "markdown",
   "metadata": {},
   "source": [
    "# Feature group tutorial"
   ]
  },
  {
   "cell_type": "markdown",
   "metadata": {},
   "source": [
    "## Setup steps"
   ]
  },
  {
   "cell_type": "code",
   "execution_count": 3,
   "metadata": {},
   "outputs": [
    {
     "ename": "ModuleNotFoundError",
     "evalue": "No module named 'pyPCG'",
     "output_type": "error",
     "traceback": [
      "\u001b[1;31m---------------------------------------------------------------------------\u001b[0m",
      "\u001b[1;31mModuleNotFoundError\u001b[0m                       Traceback (most recent call last)",
      "Cell \u001b[1;32mIn[3], line 1\u001b[0m\n\u001b[1;32m----> 1\u001b[0m \u001b[38;5;28;01mimport\u001b[39;00m \u001b[38;5;21;01mpyPCG\u001b[39;00m \u001b[38;5;28;01mas\u001b[39;00m \u001b[38;5;21;01mpcg\u001b[39;00m\n\u001b[0;32m      2\u001b[0m \u001b[38;5;28;01mimport\u001b[39;00m \u001b[38;5;21;01mpyPCG\u001b[39;00m\u001b[38;5;21;01m.\u001b[39;00m\u001b[38;5;21;01mio\u001b[39;00m \u001b[38;5;28;01mas\u001b[39;00m \u001b[38;5;21;01mpcg_io\u001b[39;00m\n\u001b[0;32m      3\u001b[0m \u001b[38;5;28;01mimport\u001b[39;00m \u001b[38;5;21;01mpyPCG\u001b[39;00m\u001b[38;5;21;01m.\u001b[39;00m\u001b[38;5;21;01mpreprocessing\u001b[39;00m \u001b[38;5;28;01mas\u001b[39;00m \u001b[38;5;21;01mpreproc\u001b[39;00m\n",
      "\u001b[1;31mModuleNotFoundError\u001b[0m: No module named 'pyPCG'"
     ]
    }
   ],
   "source": [
    "import pyPCG as pcg\n",
    "import pyPCG.io as pcg_io\n",
    "import pyPCG.preprocessing as preproc\n",
    "import pyPCG.segment as sgm\n",
    "import pyPCG.features as ftr"
   ]
  },
  {
   "cell_type": "markdown",
   "metadata": {},
   "source": [
    "### Read in signal and calculate its envelope"
   ]
  },
  {
   "cell_type": "code",
   "execution_count": 2,
   "metadata": {},
   "outputs": [],
   "source": [
    "data, fs = pcg_io.read_signal_file(\"example.wav\",\"wav\")\n",
    "signal = pcg.pcg_signal(data,fs)\n",
    "\n",
    "signal = pcg.normalize(signal)\n",
    "bp_signal = preproc.filter(preproc.filter(signal,6,100,\"LP\"),6,20,\"HP\")\n",
    "denoise_signal = preproc.wt_denoise(bp_signal)\n",
    "env_signal = preproc.homomorphic(denoise_signal)"
   ]
  },
  {
   "cell_type": "markdown",
   "metadata": {},
   "source": [
    "### Segment S1 sounds from the signal"
   ]
  },
  {
   "cell_type": "code",
   "execution_count": 3,
   "metadata": {},
   "outputs": [],
   "source": [
    "hsmm = sgm.load_hsmm(\"pre_trained.json\")\n",
    "states = sgm.segment_hsmm(hsmm,signal)\n",
    "s1_start, s1_end = sgm.convert_hsmm_states(states,1)"
   ]
  },
  {
   "cell_type": "markdown",
   "metadata": {},
   "source": [
    "## Extracting features from S1 segments"
   ]
  },
  {
   "cell_type": "markdown",
   "metadata": {},
   "source": [
    "All feature calculations require two numpy arrays with the boundary timings of the desired segments. These timings are in samples.<br>\n",
    "The outputs of the feature calculations are numpy arrays containing the calculated feature for every segment. Sometimes the output is two arrays, usually corresponding to a location and the value at that location.\n",
    "\n",
    "Note: some features expect the input signal to be the envelope of the PCG for proper functionality."
   ]
  },
  {
   "cell_type": "code",
   "execution_count": 4,
   "metadata": {},
   "outputs": [
    {
     "name": "stdout",
     "output_type": "stream",
     "text": [
      "134 0.087\n",
      "134 28.912\n"
     ]
    }
   ],
   "source": [
    "s1_len = ftr.time_delta(s1_start,s1_end,env_signal)\n",
    "s1_maxfreq, s1_maxfreq_val = ftr.max_freq(s1_start,s1_end,signal,nfft=1024)\n",
    "\n",
    "print(len(s1_len),f\"{s1_len[0]:.3f}\")\n",
    "print(len(s1_maxfreq),f\"{s1_maxfreq[0]:.3f}\")"
   ]
  },
  {
   "cell_type": "markdown",
   "metadata": {},
   "source": [
    "However, if the same feature calculations need to be run on multiple types of segments (e.g.: timelength and frequency for S1, S2, systole, diastole each), calling each function one-by-one can get quite tedious, more so when changes need to be made to the calculated features. This is prone to errors due to human error.\n",
    "\n",
    "To circumvent the previously mentioned problems, we can create a feature group object"
   ]
  },
  {
   "cell_type": "markdown",
   "metadata": {},
   "source": [
    "## Feature group object"
   ]
  },
  {
   "cell_type": "markdown",
   "metadata": {},
   "source": [
    "The feature group object takes an arbitrary number of so-called *feature config* tuples. Each feature config must contain a feature calculation function, the name of the calculated feature, the expected input (raw signal or envelope). Optionally additional parameters can be provided as key-value pairs in a dictionary."
   ]
  },
  {
   "cell_type": "code",
   "execution_count": 5,
   "metadata": {},
   "outputs": [],
   "source": [
    "timing_group = ftr.feature_group((ftr.time_delta, \"length\", \"raw\"),\n",
    "                                (ftr.ramp_time, \"onset\", \"env\"),\n",
    "                                (ftr.ramp_time, \"exit\", \"env\",{\"type\":\"exit\"}))"
   ]
  },
  {
   "cell_type": "markdown",
   "metadata": {},
   "source": [
    "This feature group will calculate the time length of the segments, the onset times (time from start of segment to the maximum location), and exit times (time from maximum location to end of segment)."
   ]
  },
  {
   "cell_type": "markdown",
   "metadata": {},
   "source": [
    "To run a feature group, we use its `run` method. Which takes both types of expected input, and the segment boundaries.\n",
    "\n",
    "The output will be a dictionary containing the calculated feature arrays for each segment with the names of the features provided in the feature configs."
   ]
  },
  {
   "cell_type": "code",
   "execution_count": 6,
   "metadata": {},
   "outputs": [
    {
     "name": "stdout",
     "output_type": "stream",
     "text": [
      "length 134 0.087\n",
      "onset 134 0.042\n",
      "exit 134 0.045\n"
     ]
    }
   ],
   "source": [
    "timings = timing_group.run(signal,env_signal,s1_start,s1_end)\n",
    "\n",
    "for key,vals in timings.items():\n",
    "    print(key,len(vals),f\"{vals[0]:.3f}\")"
   ]
  },
  {
   "cell_type": "markdown",
   "metadata": {},
   "source": [
    "If a feature returns multiple values (similar to `max_freq`), only the first output is considered in the output of the feature group.\n",
    "\n",
    "Note: this is likely to change in a future version"
   ]
  },
  {
   "cell_type": "code",
   "execution_count": 7,
   "metadata": {},
   "outputs": [
    {
     "name": "stdout",
     "output_type": "stream",
     "text": [
      "max frequency 134 28.912\n",
      "center frequency 134 41.663\n"
     ]
    }
   ],
   "source": [
    "freq_group = ftr.feature_group((ftr.max_freq, \"max frequency\", \"raw\",{\"nfft\":1024}),\n",
    "                               (ftr.spectral_centroid, \"center frequency\", \"raw\"))\n",
    "\n",
    "frequencies = freq_group.run(signal,env_signal,s1_start,s1_end)\n",
    "\n",
    "for key,vals in frequencies.items():\n",
    "    print(key,len(vals),f\"{vals[0]:.3f}\")"
   ]
  },
  {
   "cell_type": "markdown",
   "metadata": {},
   "source": [
    "If we want to combine the results, we can do so with the Python dictionary union operation"
   ]
  },
  {
   "cell_type": "code",
   "execution_count": 8,
   "metadata": {},
   "outputs": [
    {
     "name": "stdout",
     "output_type": "stream",
     "text": [
      "dict_keys(['length', 'onset', 'exit', 'max frequency', 'center frequency'])\n"
     ]
    }
   ],
   "source": [
    "total_features = timings | frequencies\n",
    "\n",
    "print(total_features.keys())"
   ]
  },
  {
   "cell_type": "markdown",
   "metadata": {},
   "source": [
    "## Additional notes"
   ]
  },
  {
   "cell_type": "markdown",
   "metadata": {},
   "source": [
    "The previous `total_features` could also be calculated with a unified feature group. However, it may be advantageous to separate certain features to different groups to reduce unnecessary calculations. For example, calculating the onset time of the systole does not make much sense, since there is no expected peak in the segment.\n",
    "\n",
    "Using feature groups may be not necessary if only one type of segment is considered, or if the difference between the sets of desired features for segment types is large."
   ]
  }
 ],
 "metadata": {
  "kernelspec": {
   "display_name": "Python 3",
   "language": "python",
   "name": "python3"
  },
  "language_info": {
   "codemirror_mode": {
    "name": "ipython",
    "version": 3
   },
   "file_extension": ".py",
   "mimetype": "text/x-python",
   "name": "python",
   "nbconvert_exporter": "python",
   "pygments_lexer": "ipython3",
   "version": "3.11.0"
  }
 },
 "nbformat": 4,
 "nbformat_minor": 2
}
