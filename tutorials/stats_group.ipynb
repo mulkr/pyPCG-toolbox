{
 "cells": [
  {
   "cell_type": "markdown",
   "metadata": {},
   "source": [
    "# Stats group tutorial"
   ]
  },
  {
   "cell_type": "markdown",
   "metadata": {},
   "source": [
    "## Setup steps"
   ]
  },
  {
   "cell_type": "code",
   "execution_count": 1,
   "metadata": {},
   "outputs": [],
   "source": [
    "import pyPCG as pcg\n",
    "import pyPCG.io as pcg_io\n",
    "import pyPCG.preprocessing as preproc\n",
    "import pyPCG.segment as sgm\n",
    "import pyPCG.features as ftr\n",
    "import pyPCG.stats as sts"
   ]
  },
  {
   "cell_type": "code",
   "execution_count": 2,
   "metadata": {},
   "outputs": [],
   "source": [
    "from importlib.resources import files\n",
    "data, fs = pcg_io.read_signal_file(str(files('pyPCG').joinpath(\"data\").joinpath(\"example.wav\")),\"wav\")\n",
    "signal = pcg.pcg_signal(data,fs)\n",
    "\n",
    "signal = pcg.normalize(signal)\n",
    "bp_signal = preproc.filter(preproc.filter(signal,6,100,\"LP\"),6,20,\"HP\")\n",
    "denoise_signal = preproc.wt_denoise(bp_signal)\n",
    "env_signal = preproc.homomorphic(denoise_signal)"
   ]
  },
  {
   "cell_type": "code",
   "execution_count": 3,
   "metadata": {},
   "outputs": [],
   "source": [
    "hsmm = sgm.load_hsmm(str(files('pyPCG').joinpath(\"data\").joinpath(\"pre_trained_fpcg.json\")))\n",
    "states = sgm.segment_hsmm(hsmm,signal)\n",
    "s1_start, s1_end = sgm.convert_hsmm_states(states,sgm.heart_state.S1)"
   ]
  },
  {
   "cell_type": "markdown",
   "metadata": {},
   "source": [
    "## Calculate some example features"
   ]
  },
  {
   "cell_type": "code",
   "execution_count": 4,
   "metadata": {},
   "outputs": [],
   "source": [
    "s1_len = ftr.time_delta(s1_start,s1_end,env_signal)\n",
    "s1_maxfreq, s1_maxfreq_val = ftr.max_freq(s1_start,s1_end,signal,nfft=1024)"
   ]
  },
  {
   "cell_type": "markdown",
   "metadata": {},
   "source": [
    "## Basic statistics"
   ]
  },
  {
   "cell_type": "markdown",
   "metadata": {},
   "source": [
    "To create statistics from the calculated features, call the appropriate statistic function.\n",
    "\n",
    "Let's calculate the mean and standard deviation of the example features above"
   ]
  },
  {
   "cell_type": "code",
   "execution_count": 5,
   "metadata": {},
   "outputs": [
    {
     "name": "stdout",
     "output_type": "stream",
     "text": [
      "mean_len=0.095 std_len=0.009\n",
      "mean_maxfreq=29.278 std_maxfreq=3.078\n"
     ]
    }
   ],
   "source": [
    "mean_len = sts.mean(s1_len)\n",
    "std_len = sts.std(s1_len)\n",
    "print(f\"{mean_len=:.3f} {std_len=:.3f}\")\n",
    "\n",
    "mean_maxfreq = sts.mean(s1_maxfreq)\n",
    "std_maxfreq = sts.std(s1_maxfreq)\n",
    "print(f\"{mean_maxfreq=:.3f} {std_maxfreq=:.3f}\")"
   ]
  },
  {
   "cell_type": "markdown",
   "metadata": {},
   "source": [
    "## Statistics group object"
   ]
  },
  {
   "cell_type": "markdown",
   "metadata": {},
   "source": [
    "If a large amount of different statistics is required for multiple features and multiple segment types, then a statistics group can be created to reduce the repeated code and lessen the possibility human error.\n",
    "\n",
    "The `stats_group` object takes an arbitrary amount of *stats configs*, which is a dictionary of the statistic measure and its name.\n",
    "\n",
    "For example, let's create a common statistic measure group with the mean and standard deviation, as seen above."
   ]
  },
  {
   "cell_type": "code",
   "execution_count": 6,
   "metadata": {},
   "outputs": [],
   "source": [
    "mean_std = sts.stats_group({\"calc_fun\":sts.mean,\"name\":\"Mean\"},\n",
    "                           {\"calc_fun\":sts.std,\"name\":\"Std\"})"
   ]
  },
  {
   "cell_type": "markdown",
   "metadata": {},
   "source": [
    "To run the calculations call the `run` method on the statistics group.\n",
    "\n",
    "The input is a dictionary containing the features with their names.\n",
    "\n",
    "The output will be a dictionary with a `Feature` field containing a list of the names of the features, and the calculated statistics with the names described in the configs.<br>\n",
    "The values are in the same order as in the `Feature` list."
   ]
  },
  {
   "cell_type": "code",
   "execution_count": 7,
   "metadata": {},
   "outputs": [
    {
     "name": "stdout",
     "output_type": "stream",
     "text": [
      "{'Feature': ['length', 'max freq'], 'Mean': [0.09477387835596791, 29.278003329730993], 'Std': [0.009471572524317224, 3.0778448376432928]}\n"
     ]
    }
   ],
   "source": [
    "basic_stats = mean_std.run({\"length\":s1_len,\"max freq\":s1_maxfreq})\n",
    "print(basic_stats)"
   ]
  },
  {
   "cell_type": "markdown",
   "metadata": {},
   "source": [
    "The required input format for running a statistics group is the same as the output of a feature group object.\n",
    "\n",
    "Let's create a feature group for demonstration. (For additional details, see the feature group tutorial)"
   ]
  },
  {
   "cell_type": "code",
   "execution_count": 8,
   "metadata": {},
   "outputs": [],
   "source": [
    "example_group = ftr.feature_group({\"calc_fun\":ftr.time_delta, \"name\":\"length\", \"input\":\"raw\"},\n",
    "                                  {\"calc_fun\":ftr.ramp_time, \"name\":\"onset\", \"input\":\"env\"},\n",
    "                                  {\"calc_fun\":ftr.max_freq, \"name\":\"max frequency\", \"input\":\"raw\",\"params\":{\"nfft\":1024}})\n",
    "\n",
    "example_features = example_group.run(signal,env_signal,s1_start,s1_end)"
   ]
  },
  {
   "cell_type": "markdown",
   "metadata": {},
   "source": [
    "Now the statistic calculation will look like the following"
   ]
  },
  {
   "cell_type": "code",
   "execution_count": 9,
   "metadata": {},
   "outputs": [
    {
     "name": "stdout",
     "output_type": "stream",
     "text": [
      "{'Feature': ['length', 'onset', 'max frequency'], 'Mean': [0.09477387835596791, 0.061852897673793185, 29.278003329730993], 'Std': [0.009471572524317224, 0.011814973307823076, 3.0778448376432928]}\n"
     ]
    }
   ],
   "source": [
    "example_stats = mean_std.run(example_features)\n",
    "print(example_stats)"
   ]
  },
  {
   "cell_type": "markdown",
   "metadata": {},
   "source": [
    "## Exporting statistics"
   ]
  },
  {
   "cell_type": "markdown",
   "metadata": {},
   "source": [
    "Each statistics group can store statistics from different segments. To do this, call the `add_stat` method with the name of the segment and the calculated statistics.\n",
    "\n",
    "As an example, let's store the previous statistics as *S1*"
   ]
  },
  {
   "cell_type": "code",
   "execution_count": 10,
   "metadata": {},
   "outputs": [],
   "source": [
    "mean_std.add_stat(\"S1\",example_stats)"
   ]
  },
  {
   "cell_type": "markdown",
   "metadata": {},
   "source": [
    "For further analysis, the statistics group contains a pandas dataframe, which contains the added statistics"
   ]
  },
  {
   "cell_type": "code",
   "execution_count": 11,
   "metadata": {},
   "outputs": [
    {
     "data": {
      "text/html": [
       "<div>\n",
       "<style scoped>\n",
       "    .dataframe tbody tr th:only-of-type {\n",
       "        vertical-align: middle;\n",
       "    }\n",
       "\n",
       "    .dataframe tbody tr th {\n",
       "        vertical-align: top;\n",
       "    }\n",
       "\n",
       "    .dataframe thead th {\n",
       "        text-align: right;\n",
       "    }\n",
       "</style>\n",
       "<table border=\"1\" class=\"dataframe\">\n",
       "  <thead>\n",
       "    <tr style=\"text-align: right;\">\n",
       "      <th></th>\n",
       "      <th>Segment</th>\n",
       "      <th>Feature</th>\n",
       "      <th>Mean</th>\n",
       "      <th>Std</th>\n",
       "    </tr>\n",
       "  </thead>\n",
       "  <tbody>\n",
       "    <tr>\n",
       "      <th>0</th>\n",
       "      <td>S1</td>\n",
       "      <td>length</td>\n",
       "      <td>0.094774</td>\n",
       "      <td>0.009472</td>\n",
       "    </tr>\n",
       "    <tr>\n",
       "      <th>1</th>\n",
       "      <td>S1</td>\n",
       "      <td>onset</td>\n",
       "      <td>0.061853</td>\n",
       "      <td>0.011815</td>\n",
       "    </tr>\n",
       "    <tr>\n",
       "      <th>2</th>\n",
       "      <td>S1</td>\n",
       "      <td>max frequency</td>\n",
       "      <td>29.278003</td>\n",
       "      <td>3.077845</td>\n",
       "    </tr>\n",
       "  </tbody>\n",
       "</table>\n",
       "</div>"
      ],
      "text/plain": [
       "  Segment        Feature       Mean       Std\n",
       "0      S1         length   0.094774  0.009472\n",
       "1      S1          onset   0.061853  0.011815\n",
       "2      S1  max frequency  29.278003  3.077845"
      ]
     },
     "execution_count": 11,
     "metadata": {},
     "output_type": "execute_result"
    }
   ],
   "source": [
    "mean_std.dataframe"
   ]
  },
  {
   "cell_type": "markdown",
   "metadata": {},
   "source": [
    "The stored statistics can also be exported to an Excel spreadsheet"
   ]
  },
  {
   "cell_type": "code",
   "execution_count": 12,
   "metadata": {},
   "outputs": [],
   "source": [
    "mean_std.export(\"example.xlsx\")"
   ]
  }
 ],
 "metadata": {
  "kernelspec": {
   "display_name": "Python 3",
   "language": "python",
   "name": "python3"
  },
  "language_info": {
   "codemirror_mode": {
    "name": "ipython",
    "version": 3
   },
   "file_extension": ".py",
   "mimetype": "text/x-python",
   "name": "python",
   "nbconvert_exporter": "python",
   "pygments_lexer": "ipython3",
   "version": "3.11.0"
  }
 },
 "nbformat": 4,
 "nbformat_minor": 2
}
